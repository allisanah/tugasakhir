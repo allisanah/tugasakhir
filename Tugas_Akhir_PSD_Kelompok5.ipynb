{
  "nbformat": 4,
  "nbformat_minor": 0,
  "metadata": {
    "colab": {
      "name": "Tugas Akhir PSD_Kelompok5.ipynb",
      "provenance": [],
      "collapsed_sections": []
    },
    "kernelspec": {
      "name": "python3",
      "display_name": "Python 3"
    },
    "language_info": {
      "name": "python"
    }
  },
  "cells": [
    {
      "cell_type": "code",
      "execution_count": null,
      "metadata": {
        "id": "QiLZsSLcK-tc"
      },
      "outputs": [],
      "source": [
        "import pandas as pd"
      ]
    },
    {
      "cell_type": "code",
      "source": [
        "df = pd.read_csv(\"cleaned - cleaned.csv\")\n",
        "df.head(100)"
      ],
      "metadata": {
        "colab": {
          "base_uri": "https://localhost:8080/",
          "height": 1000
        },
        "id": "sEgg3akgQSfn",
        "outputId": "fea06953-fad9-4f11-a8f9-4a78adee7732"
      },
      "execution_count": null,
      "outputs": [
        {
          "output_type": "execute_result",
          "data": {
            "text/html": [
              "<div>\n",
              "<style scoped>\n",
              "    .dataframe tbody tr th:only-of-type {\n",
              "        vertical-align: middle;\n",
              "    }\n",
              "\n",
              "    .dataframe tbody tr th {\n",
              "        vertical-align: top;\n",
              "    }\n",
              "\n",
              "    .dataframe thead th {\n",
              "        text-align: right;\n",
              "    }\n",
              "</style>\n",
              "<table border=\"1\" class=\"dataframe\">\n",
              "  <thead>\n",
              "    <tr style=\"text-align: right;\">\n",
              "      <th></th>\n",
              "      <th>sekolah_id</th>\n",
              "      <th>Universitas</th>\n",
              "      <th>Jurusan</th>\n",
              "      <th>Level</th>\n",
              "      <th>Bahasa</th>\n",
              "      <th>Jumlah Uang Beasiswa per Jurusan</th>\n",
              "      <th>Akomodasi yang ditanggung</th>\n",
              "      <th>Biaya hidup yang ditanggung</th>\n",
              "      <th>Biaya kuliah yang harus dibayar</th>\n",
              "      <th>Biaya Asli Beasiswa per Jurusan</th>\n",
              "      <th>Bulan Mulai</th>\n",
              "      <th>Tahun Mulai</th>\n",
              "      <th>Biaya Akomodasi</th>\n",
              "      <th>Durasi Akomodasi</th>\n",
              "      <th>Biaya hidup</th>\n",
              "      <th>Durasi Biaya</th>\n",
              "    </tr>\n",
              "  </thead>\n",
              "  <tbody>\n",
              "    <tr>\n",
              "      <th>0</th>\n",
              "      <td>1</td>\n",
              "      <td>Shanghai University of Traditional Chinese Med...</td>\n",
              "      <td>Summer School (TCM)</td>\n",
              "      <td>Non-Degree</td>\n",
              "      <td>English</td>\n",
              "      <td>7500.0</td>\n",
              "      <td>0</td>\n",
              "      <td>0</td>\n",
              "      <td>0</td>\n",
              "      <td>7500.0</td>\n",
              "      <td>Jun</td>\n",
              "      <td>2020</td>\n",
              "      <td>9750.0</td>\n",
              "      <td>MONTH</td>\n",
              "      <td>1000.0</td>\n",
              "      <td>MONTH</td>\n",
              "    </tr>\n",
              "    <tr>\n",
              "      <th>1</th>\n",
              "      <td>2</td>\n",
              "      <td>Changchun University of Science and Technology</td>\n",
              "      <td>Preparatory Program of Humanities Direction(Pa...</td>\n",
              "      <td>Non-Degree</td>\n",
              "      <td>Chinese</td>\n",
              "      <td>10000.0</td>\n",
              "      <td>0</td>\n",
              "      <td>0</td>\n",
              "      <td>10000</td>\n",
              "      <td>20000.0</td>\n",
              "      <td>Sep</td>\n",
              "      <td>2019</td>\n",
              "      <td>1500.0</td>\n",
              "      <td>MONTH</td>\n",
              "      <td>1500.0</td>\n",
              "      <td>MONTH</td>\n",
              "    </tr>\n",
              "    <tr>\n",
              "      <th>2</th>\n",
              "      <td>3</td>\n",
              "      <td>Changchun University of Science and Technology</td>\n",
              "      <td>Preparatory Program of Business Direction(Path A)</td>\n",
              "      <td>Non-Degree</td>\n",
              "      <td>Chinese</td>\n",
              "      <td>10000.0</td>\n",
              "      <td>0</td>\n",
              "      <td>0</td>\n",
              "      <td>10000</td>\n",
              "      <td>20000.0</td>\n",
              "      <td>Sep</td>\n",
              "      <td>2019</td>\n",
              "      <td>1500.0</td>\n",
              "      <td>MONTH</td>\n",
              "      <td>1500.0</td>\n",
              "      <td>MONTH</td>\n",
              "    </tr>\n",
              "    <tr>\n",
              "      <th>3</th>\n",
              "      <td>4</td>\n",
              "      <td>Changchun University of Science and Technology</td>\n",
              "      <td>Preparatory Program of Science and Engineering...</td>\n",
              "      <td>Non-Degree</td>\n",
              "      <td>Chinese</td>\n",
              "      <td>10000.0</td>\n",
              "      <td>0</td>\n",
              "      <td>0</td>\n",
              "      <td>10000</td>\n",
              "      <td>20000.0</td>\n",
              "      <td>Sep</td>\n",
              "      <td>2019</td>\n",
              "      <td>1500.0</td>\n",
              "      <td>MONTH</td>\n",
              "      <td>1500.0</td>\n",
              "      <td>MONTH</td>\n",
              "    </tr>\n",
              "    <tr>\n",
              "      <th>4</th>\n",
              "      <td>5</td>\n",
              "      <td>Qingdao University</td>\n",
              "      <td>Long-term Chinese Language Program</td>\n",
              "      <td>Non-Degree</td>\n",
              "      <td>Chinese</td>\n",
              "      <td>7000.0</td>\n",
              "      <td>1</td>\n",
              "      <td>1</td>\n",
              "      <td>0</td>\n",
              "      <td>7000.0</td>\n",
              "      <td>Sep</td>\n",
              "      <td>2019</td>\n",
              "      <td>0.0</td>\n",
              "      <td>YEAR</td>\n",
              "      <td>0.0</td>\n",
              "      <td>MONTH</td>\n",
              "    </tr>\n",
              "    <tr>\n",
              "      <th>...</th>\n",
              "      <td>...</td>\n",
              "      <td>...</td>\n",
              "      <td>...</td>\n",
              "      <td>...</td>\n",
              "      <td>...</td>\n",
              "      <td>...</td>\n",
              "      <td>...</td>\n",
              "      <td>...</td>\n",
              "      <td>...</td>\n",
              "      <td>...</td>\n",
              "      <td>...</td>\n",
              "      <td>...</td>\n",
              "      <td>...</td>\n",
              "      <td>...</td>\n",
              "      <td>...</td>\n",
              "      <td>...</td>\n",
              "    </tr>\n",
              "    <tr>\n",
              "      <th>95</th>\n",
              "      <td>96</td>\n",
              "      <td>Changchun University of Science and Technology</td>\n",
              "      <td>Electronics  and Information Engineering</td>\n",
              "      <td>Bachelor</td>\n",
              "      <td>Chinese</td>\n",
              "      <td>5550.0</td>\n",
              "      <td>0</td>\n",
              "      <td>0</td>\n",
              "      <td>12950</td>\n",
              "      <td>18500.0</td>\n",
              "      <td>Sep</td>\n",
              "      <td>2019</td>\n",
              "      <td>4800.0</td>\n",
              "      <td>TERM</td>\n",
              "      <td>1750.0</td>\n",
              "      <td>MONTH</td>\n",
              "    </tr>\n",
              "    <tr>\n",
              "      <th>96</th>\n",
              "      <td>97</td>\n",
              "      <td>Changchun University of Science and Technology</td>\n",
              "      <td>Electronic Information Science and Technology</td>\n",
              "      <td>Bachelor</td>\n",
              "      <td>Chinese</td>\n",
              "      <td>5550.0</td>\n",
              "      <td>0</td>\n",
              "      <td>0</td>\n",
              "      <td>12950</td>\n",
              "      <td>18500.0</td>\n",
              "      <td>Sep</td>\n",
              "      <td>2019</td>\n",
              "      <td>4800.0</td>\n",
              "      <td>TERM</td>\n",
              "      <td>1750.0</td>\n",
              "      <td>MONTH</td>\n",
              "    </tr>\n",
              "    <tr>\n",
              "      <th>97</th>\n",
              "      <td>98</td>\n",
              "      <td>Changchun University of Science and Technology</td>\n",
              "      <td>Microelectronics Science and Engineering</td>\n",
              "      <td>Bachelor</td>\n",
              "      <td>Chinese</td>\n",
              "      <td>5550.0</td>\n",
              "      <td>0</td>\n",
              "      <td>0</td>\n",
              "      <td>12950</td>\n",
              "      <td>18500.0</td>\n",
              "      <td>Sep</td>\n",
              "      <td>2019</td>\n",
              "      <td>4800.0</td>\n",
              "      <td>TERM</td>\n",
              "      <td>1750.0</td>\n",
              "      <td>MONTH</td>\n",
              "    </tr>\n",
              "    <tr>\n",
              "      <th>98</th>\n",
              "      <td>99</td>\n",
              "      <td>Changchun University of Science and Technology</td>\n",
              "      <td>Electronic Science and Technology</td>\n",
              "      <td>Bachelor</td>\n",
              "      <td>Chinese</td>\n",
              "      <td>5550.0</td>\n",
              "      <td>0</td>\n",
              "      <td>0</td>\n",
              "      <td>12950</td>\n",
              "      <td>18500.0</td>\n",
              "      <td>Sep</td>\n",
              "      <td>2019</td>\n",
              "      <td>4800.0</td>\n",
              "      <td>TERM</td>\n",
              "      <td>1750.0</td>\n",
              "      <td>MONTH</td>\n",
              "    </tr>\n",
              "    <tr>\n",
              "      <th>99</th>\n",
              "      <td>100</td>\n",
              "      <td>China University of Geosciences (Wuhan)</td>\n",
              "      <td>Television Broadcasting Science</td>\n",
              "      <td>Bachelor</td>\n",
              "      <td>Chinese</td>\n",
              "      <td>15200.0</td>\n",
              "      <td>0</td>\n",
              "      <td>0</td>\n",
              "      <td>6800</td>\n",
              "      <td>22000.0</td>\n",
              "      <td>Sep</td>\n",
              "      <td>2019</td>\n",
              "      <td>700.0</td>\n",
              "      <td>MONTH</td>\n",
              "      <td>1000.0</td>\n",
              "      <td>MONTH</td>\n",
              "    </tr>\n",
              "  </tbody>\n",
              "</table>\n",
              "<p>100 rows × 16 columns</p>\n",
              "</div>"
            ],
            "text/plain": [
              "    sekolah_id  ... Durasi Biaya\n",
              "0            1  ...        MONTH\n",
              "1            2  ...        MONTH\n",
              "2            3  ...        MONTH\n",
              "3            4  ...        MONTH\n",
              "4            5  ...        MONTH\n",
              "..         ...  ...          ...\n",
              "95          96  ...        MONTH\n",
              "96          97  ...        MONTH\n",
              "97          98  ...        MONTH\n",
              "98          99  ...        MONTH\n",
              "99         100  ...        MONTH\n",
              "\n",
              "[100 rows x 16 columns]"
            ]
          },
          "metadata": {},
          "execution_count": 153
        }
      ]
    },
    {
      "cell_type": "code",
      "source": [
        "from sklearn.preprocessing import LabelEncoder"
      ],
      "metadata": {
        "id": "0_sTvZZrQScL"
      },
      "execution_count": null,
      "outputs": []
    },
    {
      "cell_type": "code",
      "source": [
        "enc = LabelEncoder()"
      ],
      "metadata": {
        "id": "cgzR_6G4QSXU"
      },
      "execution_count": null,
      "outputs": []
    },
    {
      "cell_type": "code",
      "source": [
        "df['Universitas'] = enc.fit_transform(df['Universitas'].values)\n",
        "df['Jurusan'] = enc.fit_transform(df['Jurusan'].values)\n",
        "df['Level'] = enc.fit_transform(df['Level'].values)\n",
        "df['Bahasa'] = enc.fit_transform(df['Bahasa'].values)\n",
        "df['Bulan Mulai'] = enc.fit_transform(df['Bulan Mulai'].values)\n",
        "df['Durasi Akomodasi'] = enc.fit_transform(df['Durasi Akomodasi'].values)"
      ],
      "metadata": {
        "id": "vL4wczvtQSRz"
      },
      "execution_count": null,
      "outputs": []
    },
    {
      "cell_type": "code",
      "source": [
        ""
      ],
      "metadata": {
        "id": "VW4emcpQS70m"
      },
      "execution_count": null,
      "outputs": []
    },
    {
      "cell_type": "code",
      "source": [
        "df.head()"
      ],
      "metadata": {
        "colab": {
          "base_uri": "https://localhost:8080/",
          "height": 276
        },
        "id": "83VLnvN9QbvJ",
        "outputId": "5be43e9f-9dce-45bf-86dd-fd02d6ef9f14"
      },
      "execution_count": null,
      "outputs": [
        {
          "output_type": "execute_result",
          "data": {
            "text/html": [
              "<div>\n",
              "<style scoped>\n",
              "    .dataframe tbody tr th:only-of-type {\n",
              "        vertical-align: middle;\n",
              "    }\n",
              "\n",
              "    .dataframe tbody tr th {\n",
              "        vertical-align: top;\n",
              "    }\n",
              "\n",
              "    .dataframe thead th {\n",
              "        text-align: right;\n",
              "    }\n",
              "</style>\n",
              "<table border=\"1\" class=\"dataframe\">\n",
              "  <thead>\n",
              "    <tr style=\"text-align: right;\">\n",
              "      <th></th>\n",
              "      <th>sekolah_id</th>\n",
              "      <th>Universitas</th>\n",
              "      <th>Jurusan</th>\n",
              "      <th>Level</th>\n",
              "      <th>Bahasa</th>\n",
              "      <th>Jumlah Uang Beasiswa per Jurusan</th>\n",
              "      <th>Akomodasi yang ditanggung</th>\n",
              "      <th>Biaya hidup yang ditanggung</th>\n",
              "      <th>Biaya kuliah yang harus dibayar</th>\n",
              "      <th>Biaya Asli Beasiswa per Jurusan</th>\n",
              "      <th>Bulan Mulai</th>\n",
              "      <th>Tahun Mulai</th>\n",
              "      <th>Biaya Akomodasi</th>\n",
              "      <th>Durasi Akomodasi</th>\n",
              "      <th>Biaya hidup</th>\n",
              "      <th>Durasi Biaya</th>\n",
              "    </tr>\n",
              "  </thead>\n",
              "  <tbody>\n",
              "    <tr>\n",
              "      <th>0</th>\n",
              "      <td>1</td>\n",
              "      <td>33</td>\n",
              "      <td>1101</td>\n",
              "      <td>2</td>\n",
              "      <td>1</td>\n",
              "      <td>7500.0</td>\n",
              "      <td>0</td>\n",
              "      <td>0</td>\n",
              "      <td>0</td>\n",
              "      <td>7500.0</td>\n",
              "      <td>2</td>\n",
              "      <td>2020</td>\n",
              "      <td>9750.0</td>\n",
              "      <td>2</td>\n",
              "      <td>1000.0</td>\n",
              "      <td>MONTH</td>\n",
              "    </tr>\n",
              "    <tr>\n",
              "      <th>1</th>\n",
              "      <td>2</td>\n",
              "      <td>6</td>\n",
              "      <td>985</td>\n",
              "      <td>2</td>\n",
              "      <td>0</td>\n",
              "      <td>10000.0</td>\n",
              "      <td>0</td>\n",
              "      <td>0</td>\n",
              "      <td>10000</td>\n",
              "      <td>20000.0</td>\n",
              "      <td>4</td>\n",
              "      <td>2019</td>\n",
              "      <td>1500.0</td>\n",
              "      <td>2</td>\n",
              "      <td>1500.0</td>\n",
              "      <td>MONTH</td>\n",
              "    </tr>\n",
              "    <tr>\n",
              "      <th>2</th>\n",
              "      <td>3</td>\n",
              "      <td>6</td>\n",
              "      <td>984</td>\n",
              "      <td>2</td>\n",
              "      <td>0</td>\n",
              "      <td>10000.0</td>\n",
              "      <td>0</td>\n",
              "      <td>0</td>\n",
              "      <td>10000</td>\n",
              "      <td>20000.0</td>\n",
              "      <td>4</td>\n",
              "      <td>2019</td>\n",
              "      <td>1500.0</td>\n",
              "      <td>2</td>\n",
              "      <td>1500.0</td>\n",
              "      <td>MONTH</td>\n",
              "    </tr>\n",
              "    <tr>\n",
              "      <th>3</th>\n",
              "      <td>4</td>\n",
              "      <td>6</td>\n",
              "      <td>986</td>\n",
              "      <td>2</td>\n",
              "      <td>0</td>\n",
              "      <td>10000.0</td>\n",
              "      <td>0</td>\n",
              "      <td>0</td>\n",
              "      <td>10000</td>\n",
              "      <td>20000.0</td>\n",
              "      <td>4</td>\n",
              "      <td>2019</td>\n",
              "      <td>1500.0</td>\n",
              "      <td>2</td>\n",
              "      <td>1500.0</td>\n",
              "      <td>MONTH</td>\n",
              "    </tr>\n",
              "    <tr>\n",
              "      <th>4</th>\n",
              "      <td>5</td>\n",
              "      <td>26</td>\n",
              "      <td>723</td>\n",
              "      <td>2</td>\n",
              "      <td>0</td>\n",
              "      <td>7000.0</td>\n",
              "      <td>1</td>\n",
              "      <td>1</td>\n",
              "      <td>0</td>\n",
              "      <td>7000.0</td>\n",
              "      <td>4</td>\n",
              "      <td>2019</td>\n",
              "      <td>0.0</td>\n",
              "      <td>5</td>\n",
              "      <td>0.0</td>\n",
              "      <td>MONTH</td>\n",
              "    </tr>\n",
              "  </tbody>\n",
              "</table>\n",
              "</div>"
            ],
            "text/plain": [
              "   sekolah_id  Universitas  ...  Biaya hidup   Durasi Biaya\n",
              "0           1           33  ...        1000.0         MONTH\n",
              "1           2            6  ...        1500.0         MONTH\n",
              "2           3            6  ...        1500.0         MONTH\n",
              "3           4            6  ...        1500.0         MONTH\n",
              "4           5           26  ...           0.0         MONTH\n",
              "\n",
              "[5 rows x 16 columns]"
            ]
          },
          "metadata": {},
          "execution_count": 131
        }
      ]
    },
    {
      "cell_type": "code",
      "source": [
        "#df['Jumlah Uang Beasiswa per Jurusan'] = df['Jumlah Uang Beasiswa per Jurusan'].astype(\"Int64\")\n",
        "#df['Biaya Asli Beasiswa per Jurusan'] = df['Biaya Asli Beasiswa per Jurusan'].astype(\"Int64\")\n",
        "#df['Biaya Akomodasi'] = df['Biaya Akomodasi'].astype(\"Int64\")\n",
        "#df['Biaya hidup '] = df['Biaya hidup '].astype(\"Int64\")"
      ],
      "metadata": {
        "id": "knzHHcFcRNUA"
      },
      "execution_count": null,
      "outputs": []
    },
    {
      "cell_type": "code",
      "source": [
        "str_data = df.drop(['sekolah_id', 'Biaya hidup yang ditanggung', 'Durasi Biaya'], axis = 1)\n",
        "str_data.head()"
      ],
      "metadata": {
        "colab": {
          "base_uri": "https://localhost:8080/",
          "height": 183
        },
        "id": "PJHFANXlQbr1",
        "outputId": "bddc77a4-08b4-4a2e-af57-3d012f603f51"
      },
      "execution_count": null,
      "outputs": [
        {
          "output_type": "error",
          "ename": "NameError",
          "evalue": "ignored",
          "traceback": [
            "\u001b[0;31m---------------------------------------------------------------------------\u001b[0m",
            "\u001b[0;31mNameError\u001b[0m                                 Traceback (most recent call last)",
            "\u001b[0;32m<ipython-input-1-ab925508434e>\u001b[0m in \u001b[0;36m<module>\u001b[0;34m()\u001b[0m\n\u001b[0;32m----> 1\u001b[0;31m \u001b[0mstr_data\u001b[0m \u001b[0;34m=\u001b[0m \u001b[0mdf\u001b[0m\u001b[0;34m.\u001b[0m\u001b[0mdrop\u001b[0m\u001b[0;34m(\u001b[0m\u001b[0;34m[\u001b[0m\u001b[0;34m'sekolah_id'\u001b[0m\u001b[0;34m,\u001b[0m \u001b[0;34m'Biaya hidup yang ditanggung'\u001b[0m\u001b[0;34m,\u001b[0m \u001b[0;34m'Durasi Biaya'\u001b[0m\u001b[0;34m]\u001b[0m\u001b[0;34m,\u001b[0m \u001b[0maxis\u001b[0m \u001b[0;34m=\u001b[0m \u001b[0;36m1\u001b[0m\u001b[0;34m)\u001b[0m\u001b[0;34m\u001b[0m\u001b[0;34m\u001b[0m\u001b[0m\n\u001b[0m\u001b[1;32m      2\u001b[0m \u001b[0mstr_data\u001b[0m\u001b[0;34m.\u001b[0m\u001b[0mhead\u001b[0m\u001b[0;34m(\u001b[0m\u001b[0;34m)\u001b[0m\u001b[0;34m\u001b[0m\u001b[0;34m\u001b[0m\u001b[0m\n",
            "\u001b[0;31mNameError\u001b[0m: name 'df' is not defined"
          ]
        }
      ]
    },
    {
      "cell_type": "code",
      "source": [
        "str_data.info()"
      ],
      "metadata": {
        "colab": {
          "base_uri": "https://localhost:8080/"
        },
        "id": "igFOL1wnSEWT",
        "outputId": "6f7545f8-3b0f-4e35-96a7-52c1868f2f3a"
      },
      "execution_count": null,
      "outputs": [
        {
          "output_type": "stream",
          "name": "stdout",
          "text": [
            "<class 'pandas.core.frame.DataFrame'>\n",
            "RangeIndex: 3576 entries, 0 to 3575\n",
            "Data columns (total 13 columns):\n",
            " #   Column                            Non-Null Count  Dtype  \n",
            "---  ------                            --------------  -----  \n",
            " 0   Universitas                       3576 non-null   int64  \n",
            " 1   Jurusan                           3576 non-null   int64  \n",
            " 2   Level                             3576 non-null   int64  \n",
            " 3   Bahasa                            3576 non-null   int64  \n",
            " 4   Jumlah Uang Beasiswa per Jurusan  3453 non-null   float64\n",
            " 5   Akomodasi yang ditanggung         3576 non-null   int64  \n",
            " 6   Biaya kuliah yang harus dibayar   3576 non-null   int64  \n",
            " 7   Biaya Asli Beasiswa per Jurusan   3453 non-null   float64\n",
            " 8   Bulan Mulai                       3576 non-null   int64  \n",
            " 9   Tahun Mulai                       3576 non-null   int64  \n",
            " 10  Biaya Akomodasi                   3576 non-null   float64\n",
            " 11  Durasi Akomodasi                  3576 non-null   int64  \n",
            " 12  Biaya hidup                       3576 non-null   float64\n",
            "dtypes: float64(4), int64(9)\n",
            "memory usage: 363.3 KB\n"
          ]
        }
      ]
    },
    {
      "cell_type": "code",
      "source": [
        "cls_data = df['Biaya hidup yang ditanggung']\n",
        "cls_data.head(10)"
      ],
      "metadata": {
        "colab": {
          "base_uri": "https://localhost:8080/"
        },
        "id": "Ky2l6UFoQbn7",
        "outputId": "7ee9a01e-71d0-4e92-f708-85e36d12d5c2"
      },
      "execution_count": null,
      "outputs": [
        {
          "output_type": "execute_result",
          "data": {
            "text/plain": [
              "0    0\n",
              "1    0\n",
              "2    0\n",
              "3    0\n",
              "4    1\n",
              "5    1\n",
              "6    0\n",
              "7    0\n",
              "8    0\n",
              "9    0\n",
              "Name: Biaya hidup yang ditanggung, dtype: int64"
            ]
          },
          "metadata": {},
          "execution_count": 135
        }
      ]
    },
    {
      "cell_type": "code",
      "source": [
        "from sklearn.model_selection import train_test_split\n",
        "from sklearn.metrics import accuracy_score, confusion_matrix, classification_report\n",
        "from sklearn.tree import DecisionTreeClassifier"
      ],
      "metadata": {
        "id": "9Sdxvxx0Qbg1"
      },
      "execution_count": null,
      "outputs": []
    },
    {
      "cell_type": "code",
      "source": [
        "xtrain, xtest, ytrain, ytest = train_test_split(str_data, cls_data, test_size=0.2, random_state=3576)\n",
        "tree_data = DecisionTreeClassifier(random_state=3576)\n",
        "xtrain = xtrain.fillna(0)\n",
        "ytrain = ytrain.fillna(0)\n",
        "xtest = xtest.fillna(0)\n",
        "ytest = ytest.fillna(0)\n",
        "tree_data.fit(xtrain, ytrain)"
      ],
      "metadata": {
        "colab": {
          "base_uri": "https://localhost:8080/"
        },
        "id": "sfJPxv_mR3og",
        "outputId": "967be323-1f00-42c2-ec6c-0a3a87015393"
      },
      "execution_count": null,
      "outputs": [
        {
          "output_type": "execute_result",
          "data": {
            "text/plain": [
              "DecisionTreeClassifier(random_state=3576)"
            ]
          },
          "metadata": {},
          "execution_count": 137
        }
      ]
    },
    {
      "cell_type": "code",
      "source": [
        "print(\"Akurasi : \", tree_data.score(xtest, ytest))"
      ],
      "metadata": {
        "colab": {
          "base_uri": "https://localhost:8080/"
        },
        "id": "jrCxvXWkVnFK",
        "outputId": "21fae530-a07a-4ad8-933e-240ec80e13c5"
      },
      "execution_count": null,
      "outputs": [
        {
          "output_type": "stream",
          "name": "stdout",
          "text": [
            "Akurasi :  0.9986033519553073\n"
          ]
        }
      ]
    },
    {
      "cell_type": "code",
      "source": [
        "from sklearn.tree import export_graphviz\n",
        "export_graphviz(tree_data, out_file=\"hasil.dot\", class_names=[\"1\", \"0\"], feature_names=str_data.columns, impurity=False, filled=True)"
      ],
      "metadata": {
        "id": "5mAVdM42Vm9M"
      },
      "execution_count": null,
      "outputs": []
    },
    {
      "cell_type": "code",
      "source": [
        "import graphviz\n",
        "\n",
        "with open(\"hasil.dot\") as fig:\n",
        "    dot_graph = fig.read()"
      ],
      "metadata": {
        "id": "NK_s6grGWCvP"
      },
      "execution_count": null,
      "outputs": []
    },
    {
      "cell_type": "code",
      "source": [
        "graphviz.Source(dot_graph)"
      ],
      "metadata": {
        "colab": {
          "base_uri": "https://localhost:8080/",
          "height": 935
        },
        "id": "fBm5fcQxWCmD",
        "outputId": "aeee3e51-7453-4bb2-e4a3-8142246d8f53"
      },
      "execution_count": null,
      "outputs": [
        {
          "output_type": "execute_result",
          "data": {
            "text/plain": [
              "<graphviz.files.Source at 0x7f96446b5690>"
            ],
            "image/svg+xml": "<?xml version=\"1.0\" encoding=\"UTF-8\" standalone=\"no\"?>\n<!DOCTYPE svg PUBLIC \"-//W3C//DTD SVG 1.1//EN\"\n \"http://www.w3.org/Graphics/SVG/1.1/DTD/svg11.dtd\">\n<!-- Generated by graphviz version 2.40.1 (20161225.0304)\n -->\n<!-- Title: Tree Pages: 1 -->\n<svg width=\"848pt\" height=\"685pt\"\n viewBox=\"0.00 0.00 847.50 685.00\" xmlns=\"http://www.w3.org/2000/svg\" xmlns:xlink=\"http://www.w3.org/1999/xlink\">\n<g id=\"graph0\" class=\"graph\" transform=\"scale(1 1) rotate(0) translate(4 681)\">\n<title>Tree</title>\n<polygon fill=\"#ffffff\" stroke=\"transparent\" points=\"-4,4 -4,-681 843.5,-681 843.5,4 -4,4\"/>\n<!-- 0 -->\n<g id=\"node1\" class=\"node\">\n<title>0</title>\n<polygon fill=\"#eeac7c\" stroke=\"#000000\" points=\"379,-677 221,-677 221,-609 379,-609 379,-677\"/>\n<text text-anchor=\"middle\" x=\"300\" y=\"-661.8\" font-family=\"Helvetica,sans-Serif\" font-size=\"14.00\" fill=\"#000000\">Biaya hidup &#160;&lt;= 825.0</text>\n<text text-anchor=\"middle\" x=\"300\" y=\"-646.8\" font-family=\"Helvetica,sans-Serif\" font-size=\"14.00\" fill=\"#000000\">samples = 2860</text>\n<text text-anchor=\"middle\" x=\"300\" y=\"-631.8\" font-family=\"Helvetica,sans-Serif\" font-size=\"14.00\" fill=\"#000000\">value = [2138, 722]</text>\n<text text-anchor=\"middle\" x=\"300\" y=\"-616.8\" font-family=\"Helvetica,sans-Serif\" font-size=\"14.00\" fill=\"#000000\">class = 1</text>\n</g>\n<!-- 1 -->\n<g id=\"node2\" class=\"node\">\n<title>1</title>\n<polygon fill=\"#3b9ee5\" stroke=\"#000000\" points=\"283,-573 85,-573 85,-505 283,-505 283,-573\"/>\n<text text-anchor=\"middle\" x=\"184\" y=\"-557.8\" font-family=\"Helvetica,sans-Serif\" font-size=\"14.00\" fill=\"#000000\">Biaya Akomodasi &lt;= 1350.0</text>\n<text text-anchor=\"middle\" x=\"184\" y=\"-542.8\" font-family=\"Helvetica,sans-Serif\" font-size=\"14.00\" fill=\"#000000\">samples = 644</text>\n<text text-anchor=\"middle\" x=\"184\" y=\"-527.8\" font-family=\"Helvetica,sans-Serif\" font-size=\"14.00\" fill=\"#000000\">value = [5, 639]</text>\n<text text-anchor=\"middle\" x=\"184\" y=\"-512.8\" font-family=\"Helvetica,sans-Serif\" font-size=\"14.00\" fill=\"#000000\">class = 0</text>\n</g>\n<!-- 0&#45;&gt;1 -->\n<g id=\"edge1\" class=\"edge\">\n<title>0&#45;&gt;1</title>\n<path fill=\"none\" stroke=\"#000000\" d=\"M262.0173,-608.9465C251.7023,-599.6986 240.4246,-589.5876 229.7301,-579.9994\"/>\n<polygon fill=\"#000000\" stroke=\"#000000\" points=\"231.8502,-577.1995 222.0681,-573.13 227.1774,-582.4115 231.8502,-577.1995\"/>\n<text text-anchor=\"middle\" x=\"223.4297\" y=\"-594.3929\" font-family=\"Helvetica,sans-Serif\" font-size=\"14.00\" fill=\"#000000\">True</text>\n</g>\n<!-- 4 -->\n<g id=\"node5\" class=\"node\">\n<title>4</title>\n<polygon fill=\"#e68641\" stroke=\"#000000\" points=\"498,-573 334,-573 334,-505 498,-505 498,-573\"/>\n<text text-anchor=\"middle\" x=\"416\" y=\"-557.8\" font-family=\"Helvetica,sans-Serif\" font-size=\"14.00\" fill=\"#000000\">Tahun Mulai &lt;= 2019.5</text>\n<text text-anchor=\"middle\" x=\"416\" y=\"-542.8\" font-family=\"Helvetica,sans-Serif\" font-size=\"14.00\" fill=\"#000000\">samples = 2216</text>\n<text text-anchor=\"middle\" x=\"416\" y=\"-527.8\" font-family=\"Helvetica,sans-Serif\" font-size=\"14.00\" fill=\"#000000\">value = [2133, 83]</text>\n<text text-anchor=\"middle\" x=\"416\" y=\"-512.8\" font-family=\"Helvetica,sans-Serif\" font-size=\"14.00\" fill=\"#000000\">class = 1</text>\n</g>\n<!-- 0&#45;&gt;4 -->\n<g id=\"edge4\" class=\"edge\">\n<title>0&#45;&gt;4</title>\n<path fill=\"none\" stroke=\"#000000\" d=\"M337.9827,-608.9465C348.2977,-599.6986 359.5754,-589.5876 370.2699,-579.9994\"/>\n<polygon fill=\"#000000\" stroke=\"#000000\" points=\"372.8226,-582.4115 377.9319,-573.13 368.1498,-577.1995 372.8226,-582.4115\"/>\n<text text-anchor=\"middle\" x=\"376.5703\" y=\"-594.3929\" font-family=\"Helvetica,sans-Serif\" font-size=\"14.00\" fill=\"#000000\">False</text>\n</g>\n<!-- 2 -->\n<g id=\"node3\" class=\"node\">\n<title>2</title>\n<polygon fill=\"#399de5\" stroke=\"#000000\" points=\"116,-461.5 0,-461.5 0,-408.5 116,-408.5 116,-461.5\"/>\n<text text-anchor=\"middle\" x=\"58\" y=\"-446.3\" font-family=\"Helvetica,sans-Serif\" font-size=\"14.00\" fill=\"#000000\">samples = 639</text>\n<text text-anchor=\"middle\" x=\"58\" y=\"-431.3\" font-family=\"Helvetica,sans-Serif\" font-size=\"14.00\" fill=\"#000000\">value = [0, 639]</text>\n<text text-anchor=\"middle\" x=\"58\" y=\"-416.3\" font-family=\"Helvetica,sans-Serif\" font-size=\"14.00\" fill=\"#000000\">class = 0</text>\n</g>\n<!-- 1&#45;&gt;2 -->\n<g id=\"edge2\" class=\"edge\">\n<title>1&#45;&gt;2</title>\n<path fill=\"none\" stroke=\"#000000\" d=\"M142.7429,-504.9465C128.3303,-493.0504 112.1873,-479.726 97.8883,-467.9237\"/>\n<polygon fill=\"#000000\" stroke=\"#000000\" points=\"100.0971,-465.2086 90.1569,-461.5422 95.6411,-470.6071 100.0971,-465.2086\"/>\n</g>\n<!-- 3 -->\n<g id=\"node4\" class=\"node\">\n<title>3</title>\n<polygon fill=\"#e58139\" stroke=\"#000000\" points=\"233.5,-461.5 134.5,-461.5 134.5,-408.5 233.5,-408.5 233.5,-461.5\"/>\n<text text-anchor=\"middle\" x=\"184\" y=\"-446.3\" font-family=\"Helvetica,sans-Serif\" font-size=\"14.00\" fill=\"#000000\">samples = 5</text>\n<text text-anchor=\"middle\" x=\"184\" y=\"-431.3\" font-family=\"Helvetica,sans-Serif\" font-size=\"14.00\" fill=\"#000000\">value = [5, 0]</text>\n<text text-anchor=\"middle\" x=\"184\" y=\"-416.3\" font-family=\"Helvetica,sans-Serif\" font-size=\"14.00\" fill=\"#000000\">class = 1</text>\n</g>\n<!-- 1&#45;&gt;3 -->\n<g id=\"edge3\" class=\"edge\">\n<title>1&#45;&gt;3</title>\n<path fill=\"none\" stroke=\"#000000\" d=\"M184,-504.9465C184,-494.2621 184,-482.4254 184,-471.5742\"/>\n<polygon fill=\"#000000\" stroke=\"#000000\" points=\"187.5001,-471.5421 184,-461.5422 180.5001,-471.5422 187.5001,-471.5421\"/>\n</g>\n<!-- 5 -->\n<g id=\"node6\" class=\"node\">\n<title>5</title>\n<polygon fill=\"#e5823a\" stroke=\"#000000\" points=\"580,-469 252,-469 252,-401 580,-401 580,-469\"/>\n<text text-anchor=\"middle\" x=\"416\" y=\"-453.8\" font-family=\"Helvetica,sans-Serif\" font-size=\"14.00\" fill=\"#000000\">Jumlah Uang Beasiswa per Jurusan &lt;= 34000.0</text>\n<text text-anchor=\"middle\" x=\"416\" y=\"-438.8\" font-family=\"Helvetica,sans-Serif\" font-size=\"14.00\" fill=\"#000000\">samples = 2119</text>\n<text text-anchor=\"middle\" x=\"416\" y=\"-423.8\" font-family=\"Helvetica,sans-Serif\" font-size=\"14.00\" fill=\"#000000\">value = [2107, 12]</text>\n<text text-anchor=\"middle\" x=\"416\" y=\"-408.8\" font-family=\"Helvetica,sans-Serif\" font-size=\"14.00\" fill=\"#000000\">class = 1</text>\n</g>\n<!-- 4&#45;&gt;5 -->\n<g id=\"edge5\" class=\"edge\">\n<title>4&#45;&gt;5</title>\n<path fill=\"none\" stroke=\"#000000\" d=\"M416,-504.9465C416,-496.776 416,-487.9318 416,-479.3697\"/>\n<polygon fill=\"#000000\" stroke=\"#000000\" points=\"419.5001,-479.13 416,-469.13 412.5001,-479.13 419.5001,-479.13\"/>\n</g>\n<!-- 16 -->\n<g id=\"node17\" class=\"node\">\n<title>16</title>\n<polygon fill=\"#82c1ef\" stroke=\"#000000\" points=\"739.5,-469 598.5,-469 598.5,-401 739.5,-401 739.5,-469\"/>\n<text text-anchor=\"middle\" x=\"669\" y=\"-453.8\" font-family=\"Helvetica,sans-Serif\" font-size=\"14.00\" fill=\"#000000\">Universitas &lt;= 20.0</text>\n<text text-anchor=\"middle\" x=\"669\" y=\"-438.8\" font-family=\"Helvetica,sans-Serif\" font-size=\"14.00\" fill=\"#000000\">samples = 97</text>\n<text text-anchor=\"middle\" x=\"669\" y=\"-423.8\" font-family=\"Helvetica,sans-Serif\" font-size=\"14.00\" fill=\"#000000\">value = [26, 71]</text>\n<text text-anchor=\"middle\" x=\"669\" y=\"-408.8\" font-family=\"Helvetica,sans-Serif\" font-size=\"14.00\" fill=\"#000000\">class = 0</text>\n</g>\n<!-- 4&#45;&gt;16 -->\n<g id=\"edge16\" class=\"edge\">\n<title>4&#45;&gt;16</title>\n<path fill=\"none\" stroke=\"#000000\" d=\"M498.3992,-505.9991C527.1153,-494.4083 559.521,-481.2272 589,-469 589.0958,-468.9602 589.1917,-468.9205 589.2877,-468.8807\"/>\n<polygon fill=\"#000000\" stroke=\"#000000\" points=\"590.4731,-472.1785 598.3578,-465.1015 587.7808,-465.7169 590.4731,-472.1785\"/>\n</g>\n<!-- 6 -->\n<g id=\"node7\" class=\"node\">\n<title>6</title>\n<polygon fill=\"#e58139\" stroke=\"#000000\" points=\"252,-365 6,-365 6,-297 252,-297 252,-365\"/>\n<text text-anchor=\"middle\" x=\"129\" y=\"-349.8\" font-family=\"Helvetica,sans-Serif\" font-size=\"14.00\" fill=\"#000000\">Akomodasi yang ditanggung &lt;= 0.5</text>\n<text text-anchor=\"middle\" x=\"129\" y=\"-334.8\" font-family=\"Helvetica,sans-Serif\" font-size=\"14.00\" fill=\"#000000\">samples = 2031</text>\n<text text-anchor=\"middle\" x=\"129\" y=\"-319.8\" font-family=\"Helvetica,sans-Serif\" font-size=\"14.00\" fill=\"#000000\">value = [2026, 5]</text>\n<text text-anchor=\"middle\" x=\"129\" y=\"-304.8\" font-family=\"Helvetica,sans-Serif\" font-size=\"14.00\" fill=\"#000000\">class = 1</text>\n</g>\n<!-- 5&#45;&gt;6 -->\n<g id=\"edge6\" class=\"edge\">\n<title>5&#45;&gt;6</title>\n<path fill=\"none\" stroke=\"#000000\" d=\"M322.0255,-400.9465C293.5316,-390.6212 262.0683,-379.2199 232.9594,-368.6717\"/>\n<polygon fill=\"#000000\" stroke=\"#000000\" points=\"233.7799,-365.2464 223.1857,-365.13 231.395,-371.8276 233.7799,-365.2464\"/>\n</g>\n<!-- 13 -->\n<g id=\"node14\" class=\"node\">\n<title>13</title>\n<polygon fill=\"#e78c4a\" stroke=\"#000000\" points=\"575.5,-365 270.5,-365 270.5,-297 575.5,-297 575.5,-365\"/>\n<text text-anchor=\"middle\" x=\"423\" y=\"-349.8\" font-family=\"Helvetica,sans-Serif\" font-size=\"14.00\" fill=\"#000000\">Biaya Asli Beasiswa per Jurusan &lt;= 36200.0</text>\n<text text-anchor=\"middle\" x=\"423\" y=\"-334.8\" font-family=\"Helvetica,sans-Serif\" font-size=\"14.00\" fill=\"#000000\">samples = 88</text>\n<text text-anchor=\"middle\" x=\"423\" y=\"-319.8\" font-family=\"Helvetica,sans-Serif\" font-size=\"14.00\" fill=\"#000000\">value = [81, 7]</text>\n<text text-anchor=\"middle\" x=\"423\" y=\"-304.8\" font-family=\"Helvetica,sans-Serif\" font-size=\"14.00\" fill=\"#000000\">class = 1</text>\n</g>\n<!-- 5&#45;&gt;13 -->\n<g id=\"edge13\" class=\"edge\">\n<title>5&#45;&gt;13</title>\n<path fill=\"none\" stroke=\"#000000\" d=\"M418.2921,-400.9465C418.842,-392.776 419.4373,-383.9318 420.0136,-375.3697\"/>\n<polygon fill=\"#000000\" stroke=\"#000000\" points=\"423.5232,-375.3425 420.7028,-365.13 416.539,-374.8723 423.5232,-375.3425\"/>\n</g>\n<!-- 7 -->\n<g id=\"node8\" class=\"node\">\n<title>7</title>\n<polygon fill=\"#e58139\" stroke=\"#000000\" points=\"146,-253.5 22,-253.5 22,-200.5 146,-200.5 146,-253.5\"/>\n<text text-anchor=\"middle\" x=\"84\" y=\"-238.3\" font-family=\"Helvetica,sans-Serif\" font-size=\"14.00\" fill=\"#000000\">samples = 1815</text>\n<text text-anchor=\"middle\" x=\"84\" y=\"-223.3\" font-family=\"Helvetica,sans-Serif\" font-size=\"14.00\" fill=\"#000000\">value = [1815, 0]</text>\n<text text-anchor=\"middle\" x=\"84\" y=\"-208.3\" font-family=\"Helvetica,sans-Serif\" font-size=\"14.00\" fill=\"#000000\">class = 1</text>\n</g>\n<!-- 6&#45;&gt;7 -->\n<g id=\"edge7\" class=\"edge\">\n<title>6&#45;&gt;7</title>\n<path fill=\"none\" stroke=\"#000000\" d=\"M114.2653,-296.9465C109.5469,-286.0418 104.3092,-273.9368 99.5355,-262.9043\"/>\n<polygon fill=\"#000000\" stroke=\"#000000\" points=\"102.668,-261.33 95.4846,-253.5422 96.2436,-264.1098 102.668,-261.33\"/>\n</g>\n<!-- 8 -->\n<g id=\"node9\" class=\"node\">\n<title>8</title>\n<polygon fill=\"#e6843e\" stroke=\"#000000\" points=\"280,-261 164,-261 164,-193 280,-193 280,-261\"/>\n<text text-anchor=\"middle\" x=\"222\" y=\"-245.8\" font-family=\"Helvetica,sans-Serif\" font-size=\"14.00\" fill=\"#000000\">Level &lt;= 2.5</text>\n<text text-anchor=\"middle\" x=\"222\" y=\"-230.8\" font-family=\"Helvetica,sans-Serif\" font-size=\"14.00\" fill=\"#000000\">samples = 216</text>\n<text text-anchor=\"middle\" x=\"222\" y=\"-215.8\" font-family=\"Helvetica,sans-Serif\" font-size=\"14.00\" fill=\"#000000\">value = [211, 5]</text>\n<text text-anchor=\"middle\" x=\"222\" y=\"-200.8\" font-family=\"Helvetica,sans-Serif\" font-size=\"14.00\" fill=\"#000000\">class = 1</text>\n</g>\n<!-- 6&#45;&gt;8 -->\n<g id=\"edge8\" class=\"edge\">\n<title>6&#45;&gt;8</title>\n<path fill=\"none\" stroke=\"#000000\" d=\"M159.4517,-296.9465C167.4806,-287.968 176.237,-278.1758 184.5867,-268.8385\"/>\n<polygon fill=\"#000000\" stroke=\"#000000\" points=\"187.423,-270.9174 191.4799,-261.13 182.205,-266.2512 187.423,-270.9174\"/>\n</g>\n<!-- 9 -->\n<g id=\"node10\" class=\"node\">\n<title>9</title>\n<polygon fill=\"#e58139\" stroke=\"#000000\" points=\"193,-149.5 77,-149.5 77,-96.5 193,-96.5 193,-149.5\"/>\n<text text-anchor=\"middle\" x=\"135\" y=\"-134.3\" font-family=\"Helvetica,sans-Serif\" font-size=\"14.00\" fill=\"#000000\">samples = 201</text>\n<text text-anchor=\"middle\" x=\"135\" y=\"-119.3\" font-family=\"Helvetica,sans-Serif\" font-size=\"14.00\" fill=\"#000000\">value = [201, 0]</text>\n<text text-anchor=\"middle\" x=\"135\" y=\"-104.3\" font-family=\"Helvetica,sans-Serif\" font-size=\"14.00\" fill=\"#000000\">class = 1</text>\n</g>\n<!-- 8&#45;&gt;9 -->\n<g id=\"edge9\" class=\"edge\">\n<title>8&#45;&gt;9</title>\n<path fill=\"none\" stroke=\"#000000\" d=\"M193.5129,-192.9465C183.93,-181.491 173.239,-168.711 163.6441,-157.2412\"/>\n<polygon fill=\"#000000\" stroke=\"#000000\" points=\"166.3045,-154.9666 157.2035,-149.5422 160.9354,-159.458 166.3045,-154.9666\"/>\n</g>\n<!-- 10 -->\n<g id=\"node11\" class=\"node\">\n<title>10</title>\n<polygon fill=\"#f2c09c\" stroke=\"#000000\" points=\"409,-157 211,-157 211,-89 409,-89 409,-157\"/>\n<text text-anchor=\"middle\" x=\"310\" y=\"-141.8\" font-family=\"Helvetica,sans-Serif\" font-size=\"14.00\" fill=\"#000000\">Biaya Akomodasi &lt;= 1350.0</text>\n<text text-anchor=\"middle\" x=\"310\" y=\"-126.8\" font-family=\"Helvetica,sans-Serif\" font-size=\"14.00\" fill=\"#000000\">samples = 15</text>\n<text text-anchor=\"middle\" x=\"310\" y=\"-111.8\" font-family=\"Helvetica,sans-Serif\" font-size=\"14.00\" fill=\"#000000\">value = [10, 5]</text>\n<text text-anchor=\"middle\" x=\"310\" y=\"-96.8\" font-family=\"Helvetica,sans-Serif\" font-size=\"14.00\" fill=\"#000000\">class = 1</text>\n</g>\n<!-- 8&#45;&gt;10 -->\n<g id=\"edge10\" class=\"edge\">\n<title>8&#45;&gt;10</title>\n<path fill=\"none\" stroke=\"#000000\" d=\"M250.8145,-192.9465C258.4117,-183.968 266.6974,-174.1758 274.5982,-164.8385\"/>\n<polygon fill=\"#000000\" stroke=\"#000000\" points=\"277.3332,-167.0247 281.1208,-157.13 271.9895,-162.5031 277.3332,-167.0247\"/>\n</g>\n<!-- 11 -->\n<g id=\"node12\" class=\"node\">\n<title>11</title>\n<polygon fill=\"#e58139\" stroke=\"#000000\" points=\"303.5,-53 196.5,-53 196.5,0 303.5,0 303.5,-53\"/>\n<text text-anchor=\"middle\" x=\"250\" y=\"-37.8\" font-family=\"Helvetica,sans-Serif\" font-size=\"14.00\" fill=\"#000000\">samples = 10</text>\n<text text-anchor=\"middle\" x=\"250\" y=\"-22.8\" font-family=\"Helvetica,sans-Serif\" font-size=\"14.00\" fill=\"#000000\">value = [10, 0]</text>\n<text text-anchor=\"middle\" x=\"250\" y=\"-7.8\" font-family=\"Helvetica,sans-Serif\" font-size=\"14.00\" fill=\"#000000\">class = 1</text>\n</g>\n<!-- 10&#45;&gt;11 -->\n<g id=\"edge11\" class=\"edge\">\n<title>10&#45;&gt;11</title>\n<path fill=\"none\" stroke=\"#000000\" d=\"M288.8462,-88.9777C283.3805,-80.187 277.4846,-70.7044 271.9778,-61.8477\"/>\n<polygon fill=\"#000000\" stroke=\"#000000\" points=\"274.8837,-59.8927 266.6312,-53.2485 268.9391,-63.5889 274.8837,-59.8927\"/>\n</g>\n<!-- 12 -->\n<g id=\"node13\" class=\"node\">\n<title>12</title>\n<polygon fill=\"#399de5\" stroke=\"#000000\" points=\"420.5,-53 321.5,-53 321.5,0 420.5,0 420.5,-53\"/>\n<text text-anchor=\"middle\" x=\"371\" y=\"-37.8\" font-family=\"Helvetica,sans-Serif\" font-size=\"14.00\" fill=\"#000000\">samples = 5</text>\n<text text-anchor=\"middle\" x=\"371\" y=\"-22.8\" font-family=\"Helvetica,sans-Serif\" font-size=\"14.00\" fill=\"#000000\">value = [0, 5]</text>\n<text text-anchor=\"middle\" x=\"371\" y=\"-7.8\" font-family=\"Helvetica,sans-Serif\" font-size=\"14.00\" fill=\"#000000\">class = 0</text>\n</g>\n<!-- 10&#45;&gt;12 -->\n<g id=\"edge12\" class=\"edge\">\n<title>10&#45;&gt;12</title>\n<path fill=\"none\" stroke=\"#000000\" d=\"M331.5063,-88.9777C337.0631,-80.187 343.0573,-70.7044 348.6559,-61.8477\"/>\n<polygon fill=\"#000000\" stroke=\"#000000\" points=\"351.7069,-63.5714 354.0916,-53.2485 345.7899,-59.8312 351.7069,-63.5714\"/>\n</g>\n<!-- 14 -->\n<g id=\"node15\" class=\"node\">\n<title>14</title>\n<polygon fill=\"#399de5\" stroke=\"#000000\" points=\"434.5,-253.5 335.5,-253.5 335.5,-200.5 434.5,-200.5 434.5,-253.5\"/>\n<text text-anchor=\"middle\" x=\"385\" y=\"-238.3\" font-family=\"Helvetica,sans-Serif\" font-size=\"14.00\" fill=\"#000000\">samples = 7</text>\n<text text-anchor=\"middle\" x=\"385\" y=\"-223.3\" font-family=\"Helvetica,sans-Serif\" font-size=\"14.00\" fill=\"#000000\">value = [0, 7]</text>\n<text text-anchor=\"middle\" x=\"385\" y=\"-208.3\" font-family=\"Helvetica,sans-Serif\" font-size=\"14.00\" fill=\"#000000\">class = 0</text>\n</g>\n<!-- 13&#45;&gt;14 -->\n<g id=\"edge14\" class=\"edge\">\n<title>13&#45;&gt;14</title>\n<path fill=\"none\" stroke=\"#000000\" d=\"M410.5574,-296.9465C406.6132,-286.1519 402.2393,-274.1813 398.2411,-263.2389\"/>\n<polygon fill=\"#000000\" stroke=\"#000000\" points=\"401.4175,-261.7336 394.6981,-253.5422 394.8427,-264.136 401.4175,-261.7336\"/>\n</g>\n<!-- 15 -->\n<g id=\"node16\" class=\"node\">\n<title>15</title>\n<polygon fill=\"#e58139\" stroke=\"#000000\" points=\"559.5,-253.5 452.5,-253.5 452.5,-200.5 559.5,-200.5 559.5,-253.5\"/>\n<text text-anchor=\"middle\" x=\"506\" y=\"-238.3\" font-family=\"Helvetica,sans-Serif\" font-size=\"14.00\" fill=\"#000000\">samples = 81</text>\n<text text-anchor=\"middle\" x=\"506\" y=\"-223.3\" font-family=\"Helvetica,sans-Serif\" font-size=\"14.00\" fill=\"#000000\">value = [81, 0]</text>\n<text text-anchor=\"middle\" x=\"506\" y=\"-208.3\" font-family=\"Helvetica,sans-Serif\" font-size=\"14.00\" fill=\"#000000\">class = 1</text>\n</g>\n<!-- 13&#45;&gt;15 -->\n<g id=\"edge15\" class=\"edge\">\n<title>13&#45;&gt;15</title>\n<path fill=\"none\" stroke=\"#000000\" d=\"M450.1773,-296.9465C459.2318,-285.6012 469.323,-272.9567 478.4086,-261.5724\"/>\n<polygon fill=\"#000000\" stroke=\"#000000\" points=\"481.3151,-263.5414 484.8173,-253.5422 475.8439,-259.175 481.3151,-263.5414\"/>\n</g>\n<!-- 17 -->\n<g id=\"node18\" class=\"node\">\n<title>17</title>\n<polygon fill=\"#e58139\" stroke=\"#000000\" points=\"714.5,-357.5 607.5,-357.5 607.5,-304.5 714.5,-304.5 714.5,-357.5\"/>\n<text text-anchor=\"middle\" x=\"661\" y=\"-342.3\" font-family=\"Helvetica,sans-Serif\" font-size=\"14.00\" fill=\"#000000\">samples = 26</text>\n<text text-anchor=\"middle\" x=\"661\" y=\"-327.3\" font-family=\"Helvetica,sans-Serif\" font-size=\"14.00\" fill=\"#000000\">value = [26, 0]</text>\n<text text-anchor=\"middle\" x=\"661\" y=\"-312.3\" font-family=\"Helvetica,sans-Serif\" font-size=\"14.00\" fill=\"#000000\">class = 1</text>\n</g>\n<!-- 16&#45;&gt;17 -->\n<g id=\"edge17\" class=\"edge\">\n<title>16&#45;&gt;17</title>\n<path fill=\"none\" stroke=\"#000000\" d=\"M666.3805,-400.9465C665.5586,-390.2621 664.6481,-378.4254 663.8134,-367.5742\"/>\n<polygon fill=\"#000000\" stroke=\"#000000\" points=\"667.2985,-367.2442 663.0417,-357.5422 660.3191,-367.7812 667.2985,-367.2442\"/>\n</g>\n<!-- 18 -->\n<g id=\"node19\" class=\"node\">\n<title>18</title>\n<polygon fill=\"#399de5\" stroke=\"#000000\" points=\"839.5,-357.5 732.5,-357.5 732.5,-304.5 839.5,-304.5 839.5,-357.5\"/>\n<text text-anchor=\"middle\" x=\"786\" y=\"-342.3\" font-family=\"Helvetica,sans-Serif\" font-size=\"14.00\" fill=\"#000000\">samples = 71</text>\n<text text-anchor=\"middle\" x=\"786\" y=\"-327.3\" font-family=\"Helvetica,sans-Serif\" font-size=\"14.00\" fill=\"#000000\">value = [0, 71]</text>\n<text text-anchor=\"middle\" x=\"786\" y=\"-312.3\" font-family=\"Helvetica,sans-Serif\" font-size=\"14.00\" fill=\"#000000\">class = 0</text>\n</g>\n<!-- 16&#45;&gt;18 -->\n<g id=\"edge18\" class=\"edge\">\n<title>16&#45;&gt;18</title>\n<path fill=\"none\" stroke=\"#000000\" d=\"M707.3102,-400.9465C720.5694,-389.1606 735.4058,-375.9726 748.5916,-364.2519\"/>\n<polygon fill=\"#000000\" stroke=\"#000000\" points=\"750.9912,-366.8018 756.1401,-357.5422 746.3407,-361.5699 750.9912,-366.8018\"/>\n</g>\n</g>\n</svg>\n"
          },
          "metadata": {},
          "execution_count": 141
        }
      ]
    },
    {
      "cell_type": "code",
      "source": [
        "# 33\t1101\t2\t1\t7500.0\t0\t0\t7500.0\t2\t2020\t9750.0\t2\t1000"
      ],
      "metadata": {
        "id": "cOuSNdw4WTeL"
      },
      "execution_count": null,
      "outputs": []
    },
    {
      "cell_type": "code",
      "source": [
        ""
      ],
      "metadata": {
        "colab": {
          "base_uri": "https://localhost:8080/"
        },
        "id": "78L7yBXPWrp2",
        "outputId": "baa1bf91-6f96-456a-85e6-607d7707618e"
      },
      "execution_count": null,
      "outputs": [
        {
          "output_type": "stream",
          "name": "stdout",
          "text": [
            "[1]\n",
            "\n",
            "\n",
            "Keterangan:\n",
            "[1] berarti 'YA'\n",
            "[0] berarti 'TIDAK'\n",
            "\n",
            "\n"
          ]
        },
        {
          "output_type": "stream",
          "name": "stderr",
          "text": [
            "/usr/local/lib/python3.7/dist-packages/sklearn/base.py:446: UserWarning: X does not have valid feature names, but DecisionTreeClassifier was fitted with feature names\n",
            "  \"X does not have valid feature names, but\"\n"
          ]
        }
      ]
    }
  ]
}